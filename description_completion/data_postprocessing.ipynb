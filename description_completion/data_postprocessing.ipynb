{
 "cells": [
  {
   "attachments": {},
   "cell_type": "markdown",
   "metadata": {},
   "source": [
    "Get the number of concepts after non-concept filtering by ChatGPT："
   ]
  },
  {
   "cell_type": "code",
   "execution_count": null,
   "metadata": {},
   "outputs": [
    {
     "name": "stderr",
     "output_type": "stream",
     "text": [
      "100%|██████████| 5828/5828 [01:46<00:00, 54.94it/s] \n"
     ]
    }
   ],
   "source": [
    "import os\n",
    "import json\n",
    "from tqdm import tqdm\n",
    "label_path = \"./data_122/m2conceptbase/concept_labels/\"\n",
    "\n",
    "label_files = os.listdir(label_path)\n",
    "\n",
    "\n",
    "concept_list = []\n",
    "non_concept_list = []\n",
    "for label_file in tqdm(label_files, total=len(label_files)):\n",
    "    # print(label_file)\n",
    "    try:\n",
    "        with open(os.path.join(label_path, label_file), 'r', encoding='utf-8') as f:\n",
    "            concept_labels = json.load(f)\n",
    "        \n",
    "        concept_list.extend([concept for concept, label in concept_labels.items() if label == 1])\n",
    "        non_concept_list.extend([concept for concept, label in concept_labels.items() if label == 0])\n",
    "    except Exception as e:\n",
    "        print(label_file)\n",
    "        print(e)"
   ]
  },
  {
   "cell_type": "code",
   "execution_count": 15,
   "metadata": {},
   "outputs": [
    {
     "name": "stdout",
     "output_type": "stream",
     "text": [
      "139431\n",
      "210192\n"
     ]
    }
   ],
   "source": [
    "print(len(concept_list))\n",
    "print(len(non_concept_list))\n",
    "non_concept_list\n",
    "with open(\"concepts_230606.json\", 'w', encoding='utf-8') as f:\n",
    "    json.dump(concept_list, f, ensure_ascii=False, indent=4)\n",
    "with open(\"non_concepts_230606.json\", 'w', encoding='utf-8') as f:\n",
    "    json.dump(non_concept_list, f, ensure_ascii=False, indent=4)"
   ]
  },
  {
   "attachments": {},
   "cell_type": "markdown",
   "metadata": {},
   "source": [
    "### 概念本义缺失判断"
   ]
  },
  {
   "cell_type": "code",
   "execution_count": null,
   "metadata": {},
   "outputs": [],
   "source": [
    "import os\n",
    "import json\n",
    "from tqdm import tqdm\n",
    "concept_descriptions_path = \"./data_122/m2conceptbase/concept_descriptions/\"\n",
    "\n",
    "letter_list = [chr(ord('A') + i) for i in range(26)]\n",
    "\n",
    "\n",
    "def lack_basic_meaning(concept_descriptions):\n",
    "    lack = True\n",
    "    for description in concept_descriptions:\n",
    "        if \"《\" not in description and \"》\" not in description and \"产品\" not in description:\n",
    "            lack = False\n",
    "    return lack\n",
    "\n",
    "concepts_lack_basic_meaning = []\n",
    "\n",
    "for letter in letter_list:\n",
    "    dir_path = os.path.join(concept_descriptions_path, letter)\n",
    "    print(\"processing {}...\".format(dir_path))\n",
    "    concept_files = os.listdir(dir_path)\n",
    "    for filename in tqdm(concept_files, total=len(concept_files)):\n",
    "        concept_filename = os.path.join(dir_path, filename)\n",
    "        with open(concept_filename, 'r', encoding='utf-8') as f:\n",
    "            concept_dict = json.load(f)\n",
    "            concept_name = concept_dict[\"concept\"]\n",
    "            concept_descriptions = concept_dict[\"candidate_descriptions\"]\n",
    "        if lack_basic_meaning(concept_descriptions):\n",
    "            # print(\"{} is lack of basic meaning.\".format(concept_name))\n",
    "            concepts_lack_basic_meaning.append(concept_name)\n",
    "        # else:\n",
    "        #     print(concept_name)\n",
    "\n",
    "print(\"total {} concepts lacking basic meaning.\".format(len(concepts_lack_basic_meaning)))\n",
    "\n",
    "with open(\"concepts_lack_basic_meaning.json\", 'w', encoding='utf-8') as f:\n",
    "    json.dump(concepts_lack_basic_meaning, f, ensure_ascii=False, indent=4)\n",
    "print(\"done.\")"
   ]
  },
  {
   "cell_type": "code",
   "execution_count": null,
   "metadata": {},
   "outputs": [
    {
     "name": "stdout",
     "output_type": "stream",
     "text": [
      "done.\n"
     ]
    }
   ],
   "source": [
    "import json\n",
    "with open(\"concepts_lack_basic_meaning.json\", 'r', encoding='utf-8') as f:\n",
    "    concepts_lack_basic_meaning = json.load(f)\n",
    "    \n",
    "with open(\"./projects/m2conceptbase/utils/word_freq_train_data_230531.json\", 'r', encoding='utf-8') as f:\n",
    "    word_dict = json.load(f)\n",
    "\n",
    "concepts_lack_basic_meaning_filtered = [word for word in concepts_lack_basic_meaning if word in word_dict]\n",
    "len(concepts_lack_basic_meaning_filtered)\n",
    "with open(\"concepts_lack_basic_meaning_v2.json\", 'w', encoding='utf-8') as f:\n",
    "    json.dump(concepts_lack_basic_meaning_filtered, f, ensure_ascii=False, indent=4)\n",
    "print(\"done.\")"
   ]
  },
  {
   "cell_type": "code",
   "execution_count": null,
   "metadata": {},
   "outputs": [
    {
     "name": "stdout",
     "output_type": "stream",
     "text": [
      "187154\n",
      "done.\n"
     ]
    }
   ],
   "source": [
    "with open(\"./projects/m2conceptbase/utils/concepts_230606.json\", 'r', encoding='utf-8') as f:\n",
    "    concepts = json.load(f)\n",
    "    \n",
    "with open(\"./projects/m2conceptbase/concepts_crawled_230608.json\", 'r', encoding='utf-8') as f:\n",
    "    concepts_crawled = json.load(f)\n",
    "    \n",
    "concepts_to_generate = set(concepts) - set(concepts_crawled) | set(concepts_lack_basic_meaning_filtered)\n",
    "print(len(concepts_to_generate)) # 187154\n",
    "with open(\"./projects/m2conceptbase/concepts_to_generate_230608.json\", 'w', encoding='utf-8') as f:\n",
    "    json.dump(list(concepts_to_generate), f, ensure_ascii=False, indent=4)\n",
    "print(\"done.\")"
   ]
  },
  {
   "attachments": {},
   "cell_type": "markdown",
   "metadata": {},
   "source": [
    "第一步，根据上述规则，得到缺失本义的概念。\n",
    "第二步，判断概念是否在词性nw（或nz）字典中（前提是在候选概念字典中）\n",
    "第三步，为这些概念利用ChatGPT生成基本描述。"
   ]
  }
 ],
 "metadata": {
  "kernelspec": {
   "display_name": "zzw",
   "language": "python",
   "name": "python3"
  },
  "language_info": {
   "codemirror_mode": {
    "name": "ipython",
    "version": 3
   },
   "file_extension": ".py",
   "mimetype": "text/x-python",
   "name": "python",
   "nbconvert_exporter": "python",
   "pygments_lexer": "ipython3",
   "version": "3.8.16"
  },
  "orig_nbformat": 4
 },
 "nbformat": 4,
 "nbformat_minor": 2
}
